{
 "cells": [
  {
   "cell_type": "markdown",
   "id": "91939442-bd90-4fea-9317-c287f7f67f2b",
   "metadata": {},
   "source": [
    "# Import libraries"
   ]
  },
  {
   "cell_type": "code",
   "execution_count": 1,
   "id": "1074f285-6e97-473d-a916-9f3334c23b38",
   "metadata": {},
   "outputs": [],
   "source": [
    "import os\n",
    "from openai import OpenAI"
   ]
  },
  {
   "cell_type": "code",
   "execution_count": 10,
   "id": "ffe34e16-1281-4776-9db8-9d809b8aa193",
   "metadata": {},
   "outputs": [],
   "source": [
    "from IPython.display import display, Markdown"
   ]
  },
  {
   "cell_type": "code",
   "execution_count": null,
   "id": "aad7edbd-bf47-474e-9ae5-46822bd9e9d9",
   "metadata": {},
   "outputs": [],
   "source": []
  },
  {
   "cell_type": "markdown",
   "id": "ceb38339-8e8d-4f8c-8634-7ec9c5e13594",
   "metadata": {},
   "source": [
    "# Instantiate OpenAI client"
   ]
  },
  {
   "cell_type": "code",
   "execution_count": 2,
   "id": "f1d0c630-55c2-4ea6-a997-47c8cbb2c213",
   "metadata": {},
   "outputs": [],
   "source": [
    "client = OpenAI(\n",
    "            api_key=os.environ.get(\"OPENAI_API_KEY\")\n",
    ")"
   ]
  },
  {
   "cell_type": "code",
   "execution_count": null,
   "id": "e4e6afdb-ff81-4675-8a34-7eea57acc2b3",
   "metadata": {},
   "outputs": [],
   "source": []
  },
  {
   "cell_type": "markdown",
   "id": "53be2d9c-4cc5-4c0a-a6f0-f13ea302de22",
   "metadata": {},
   "source": [
    "# Trigger o1-mini model (o1-mini-2024-09-12)"
   ]
  },
  {
   "cell_type": "code",
   "execution_count": 6,
   "id": "c7e126c8-d2a3-4507-9087-82afac5554ea",
   "metadata": {},
   "outputs": [],
   "source": [
    "response = client.chat.completions.create(\n",
    "    model=\"o1-mini\",\n",
    "    messages=[\n",
    "        {\n",
    "        \"role\": \"user\",\n",
    "        \"content\": [\n",
    "            {\n",
    "            \"type\": \"text\",\n",
    "            \"text\": \"hihi\"\n",
    "            }\n",
    "        ]\n",
    "        },\n",
    "        {\n",
    "        \"role\": \"assistant\",\n",
    "        \"content\": [\n",
    "            {\n",
    "            \"type\": \"text\",\n",
    "            \"text\": \"Hello! 😊 How can I help you today?\"\n",
    "            }\n",
    "        ]\n",
    "        },\n",
    "        {\n",
    "        \"role\": \"user\",\n",
    "        \"content\": [\n",
    "            {\n",
    "            \"type\": \"text\",\n",
    "            \"text\": \"my wife sent me this string'n qtaj dtz', what does it mean\"\n",
    "            }\n",
    "        ]\n",
    "        }\n",
    "    ]\n",
    ")"
   ]
  },
  {
   "cell_type": "code",
   "execution_count": 11,
   "id": "585a9226-647d-44f5-8e3c-6b3efb7a265b",
   "metadata": {},
   "outputs": [],
   "source": [
    "answer = response.choices[0].message.content"
   ]
  },
  {
   "cell_type": "code",
   "execution_count": 12,
   "id": "de24a495-16f5-4c31-9ca7-ebfbd140a6c9",
   "metadata": {},
   "outputs": [
    {
     "data": {
      "text/markdown": [
       "Hello! 😊 Let's try to figure out the meaning behind the string your wife sent: **'n qtaj dtz'**. Here are a few possibilities:\n",
       "\n",
       "1. **Typo or Autocorrect Issue**:\n",
       "   - **Explanation**: Sometimes, typing errors or autocorrect can change the intended message.\n",
       "   - **Action**: Consider whether she might have meant to type something similar but made a mistake. It might help to ask her directly if this was a typo.\n",
       "\n",
       "2. **Abbreviation or Initialism**:\n",
       "   - **Explanation**: Each letter or group of letters might stand for words. For example:\n",
       "     - **n**: Often stands for \"and.\"\n",
       "     - **qtaj**: Could represent initials or shorthand for a phrase (e.g., \"Quick Text And Jokes\").\n",
       "     - **dtz**: Similarly, might be initials or shorthand for something meaningful between you two.\n",
       "   - **Action**: Think about any phrases or inside jokes you both share that fit these initials.\n",
       "\n",
       "3. **Cipher or Code**:\n",
       "   - **Explanation**: She might be using a simple cipher (like a Caesar shift) to encode a message.\n",
       "   - **Basic Cipher Example**: \n",
       "     - **Caesar Shift**: Shifting each letter by a certain number of places in the alphabet.\n",
       "     - **Atbash Cipher**: Reversing the alphabet (A ↔ Z, B ↔ Y, etc.).\n",
       "   - **Action**: You can try decoding the message using common cipher techniques. For example:\n",
       "     - **Caesar Shift by 1**: \n",
       "       - q → r\n",
       "       - t → u\n",
       "       - a → b\n",
       "       - j → k\n",
       "       - d → e\n",
       "       - t → u\n",
       "       - z → a\n",
       "       - Result: \"rubk eua\" (doesn't seem meaningful, but trying different shifts might help)\n",
       "     - **Atbash Cipher**:\n",
       "       - q → j\n",
       "       - t → g\n",
       "       - a → z\n",
       "       - j → q\n",
       "       - d → w\n",
       "       - t → g\n",
       "       - z → a\n",
       "       - Result: \"jgzq wga\" (also not immediately meaningful)\n",
       "   - **Tools**: Consider using online cipher decoders to experiment with different methods.\n",
       "\n",
       "4. **Foreign Language or Slang**:\n",
       "   - **Explanation**: The string might be in another language or use slang/acronyms that aren't immediately recognizable.\n",
       "   - **Action**: Think about any languages she speaks or slang terms she might use. You can also use translation tools to check.\n",
       "\n",
       "5. **Personal or Inside Reference**:\n",
       "   - **Explanation**: It could be something meaningful only to both of you, like a code name, a reference to a shared memory, or plans.\n",
       "   - **Action**: Reflect on recent conversations, plans, or inside jokes that might relate to the string.\n",
       "\n",
       "6. **Keyboard Shift Mistake**:\n",
       "   - **Explanation**: If she was typing quickly or shifted her hands on the keyboard, the message might have unintended characters.\n",
       "   - **Example**:\n",
       "     - If she intended to type \"love you\" but her hands were shifted one key to the right, it might result in something like \"qtaj dtz\".\n",
       "   - **Action**: Try shifting the letters on a QWERTY keyboard to see if another phrase emerges. For example:\n",
       "     - Shifting one key to the right:\n",
       "       - q → w\n",
       "       - t → y\n",
       "       - a → s\n",
       "       - j → k\n",
       "       - d → f\n",
       "       - t → y\n",
       "       - z → x\n",
       "       - Result: \"wysk fyx\" (still not meaningful, but other shifts might help)\n",
       "\n",
       "**Best Next Step**:\n",
       "If none of these interpretations make sense, the most straightforward approach is to **ask her directly**. A quick clarification can save time and ensure you understand her message correctly.\n",
       "\n",
       "Hope this helps! Let me know if you have more details or need further assistance."
      ],
      "text/plain": [
       "<IPython.core.display.Markdown object>"
      ]
     },
     "metadata": {},
     "output_type": "display_data"
    }
   ],
   "source": [
    "display(Markdown(answer))"
   ]
  },
  {
   "cell_type": "code",
   "execution_count": null,
   "id": "d7c6183c-81e4-4bac-840d-8a131b11a9c0",
   "metadata": {},
   "outputs": [],
   "source": []
  },
  {
   "cell_type": "markdown",
   "id": "cefca82e-50a2-45ea-91a5-396043a36de2",
   "metadata": {},
   "source": [
    "# Trigger o1-preview model (o1-preview-2024-09-12)"
   ]
  },
  {
   "cell_type": "code",
   "execution_count": 13,
   "id": "e43dad6d-a912-46d5-8194-025e8d93f284",
   "metadata": {},
   "outputs": [],
   "source": [
    "response = client.chat.completions.create(\n",
    "    model=\"o1-preview\",\n",
    "    messages=[\n",
    "        {\n",
    "        \"role\": \"user\",\n",
    "        \"content\": [\n",
    "            {\n",
    "            \"type\": \"text\",\n",
    "            \"text\": \"hihi\"\n",
    "            }\n",
    "        ]\n",
    "        },\n",
    "        {\n",
    "        \"role\": \"assistant\",\n",
    "        \"content\": [\n",
    "            {\n",
    "            \"type\": \"text\",\n",
    "            \"text\": \"Hello! 😊 How can I help you today?\"\n",
    "            }\n",
    "        ]\n",
    "        },\n",
    "        {\n",
    "        \"role\": \"user\",\n",
    "        \"content\": [\n",
    "            {\n",
    "            \"type\": \"text\",\n",
    "            \"text\": \"my wife sent me this string'n qtaj dtz', what does it mean\"\n",
    "            }\n",
    "        ]\n",
    "        }\n",
    "    ]\n",
    ")"
   ]
  },
  {
   "cell_type": "code",
   "execution_count": 14,
   "id": "a182e09e-9861-48bd-8db9-6d039a6f395b",
   "metadata": {},
   "outputs": [],
   "source": [
    "answer = response.choices[0].message.content"
   ]
  },
  {
   "cell_type": "code",
   "execution_count": 15,
   "id": "8df13c10-f1d7-487b-ac25-d110291d32cc",
   "metadata": {},
   "outputs": [
    {
     "data": {
      "text/markdown": [
       "Your wife sent you the encrypted message \"n qtaj dtz\". This message is encoded using a simple Caesar cipher, where each letter is shifted forward by 5 positions in the alphabet.\n",
       "\n",
       "Here's how it works:\n",
       "\n",
       "1. **List the letters and their positions in the alphabet:**\n",
       "\n",
       "   | Letter | Position | Letter | Position |\n",
       "   |--------|----------|--------|----------|\n",
       "   | n      | 14       | d      | 4        |\n",
       "   | q      | 17       | t      | 20       |\n",
       "   | t      | 20       | z      | 26       |\n",
       "   | a      | 1        |        |          |\n",
       "   | j      | 10       |        |          |\n",
       "\n",
       "2. **Shift each letter back by 5 positions:**\n",
       "\n",
       "   - **n (14) → i (9)**\n",
       "   - **q (17) → l (12)**\n",
       "   - **t (20) → o (15)**\n",
       "   - **a (1) → v (22)** *(since 1 - 5 = -4; adding 26 gives 22)*\n",
       "   - **j (10) → e (5)**\n",
       "   - **d (4) → y (25)** *(since 4 - 5 = -1; adding 26 gives 25)*\n",
       "   - **t (20) → o (15)**\n",
       "   - **z (26) → u (21)**\n",
       "\n",
       "3. **Decode the message:**\n",
       "\n",
       "   - **n qtaj dtz** becomes **i love you**\n",
       "\n",
       "So, the message your wife sent you is **\"I LOVE YOU\"**.\n",
       "\n",
       "**Explanation:**\n",
       "\n",
       "She used a Caesar cipher with a shift of **-5** to encode a loving message. It's a fun and sweet way to express affection using a simple encryption method!"
      ],
      "text/plain": [
       "<IPython.core.display.Markdown object>"
      ]
     },
     "metadata": {},
     "output_type": "display_data"
    }
   ],
   "source": [
    "display(Markdown(answer))"
   ]
  },
  {
   "cell_type": "code",
   "execution_count": null,
   "id": "f6ffbc68-92a1-4d6e-a14a-f3a1b3d9aaea",
   "metadata": {},
   "outputs": [],
   "source": []
  },
  {
   "cell_type": "code",
   "execution_count": null,
   "id": "6b4b4efd-6087-4300-93b0-3a4d12353f20",
   "metadata": {},
   "outputs": [],
   "source": []
  }
 ],
 "metadata": {
  "kernelspec": {
   "display_name": "Python 3 (ipykernel)",
   "language": "python",
   "name": "python3"
  },
  "language_info": {
   "codemirror_mode": {
    "name": "ipython",
    "version": 3
   },
   "file_extension": ".py",
   "mimetype": "text/x-python",
   "name": "python",
   "nbconvert_exporter": "python",
   "pygments_lexer": "ipython3",
   "version": "3.9.21"
  }
 },
 "nbformat": 4,
 "nbformat_minor": 5
}
